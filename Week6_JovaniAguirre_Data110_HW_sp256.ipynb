{
  "nbformat": 4,
  "nbformat_minor": 0,
  "metadata": {
    "colab": {
      "private_outputs": true,
      "provenance": [],
      "include_colab_link": true
    },
    "kernelspec": {
      "name": "python3",
      "display_name": "Python 3"
    },
    "language_info": {
      "name": "python"
    }
  },
  "cells": [
    {
      "cell_type": "markdown",
      "metadata": {
        "id": "view-in-github",
        "colab_type": "text"
      },
      "source": [
        "<a href=\"https://colab.research.google.com/github/inti24/Data-110/blob/main/Week6_JovaniAguirre_Data110_HW_sp256.ipynb\" target=\"_parent\"><img src=\"https://colab.research.google.com/assets/colab-badge.svg\" alt=\"Open In Colab\"/></a>"
      ]
    },
    {
      "cell_type": "markdown",
      "source": [
        "# Setting Up Your Environment and\n",
        "1. Install any necessary packages"
      ],
      "metadata": {
        "id": "HEqhCWnovnkz"
      }
    },
    {
      "cell_type": "code",
      "execution_count": null,
      "metadata": {
        "id": "5XzeNRjcvSgi"
      },
      "outputs": [],
      "source": [
        "!pip install rpy2\n",
        "!pip install joypy"
      ]
    },
    {
      "cell_type": "markdown",
      "source": [
        "2. Import the required libraries:"
      ],
      "metadata": {
        "id": "sU4hVHMgvyqr"
      }
    },
    {
      "cell_type": "code",
      "source": [
        "import pandas as pd\n",
        "import seaborn as sns\n",
        "import matplotlib.pyplot as plt\n",
        "import numpy as np\n",
        "from joypy import joyplot"
      ],
      "metadata": {
        "id": "2is_tYkxv3fb"
      },
      "execution_count": null,
      "outputs": []
    },
    {
      "cell_type": "markdown",
      "source": [
        "Part 2: Load and Explore the Dataset\n",
        "\n",
        "1. Load the Palmer Penguins dataset:\n",
        "\n",
        "url = \"https://raw.githubusercontent.com/mwaskom/seaborn-data/master/penguins.csv\"\n"
      ],
      "metadata": {
        "id": "5Vs2RF4Rv7Ad"
      }
    },
    {
      "cell_type": "code",
      "source": [
        "df=pd.read_csv(\"https://raw.githubusercontent.com/mwaskom/seaborn-data/master/penguins.csv\")"
      ],
      "metadata": {
        "id": "6QCHSOn0wImo"
      },
      "execution_count": null,
      "outputs": []
    },
    {
      "cell_type": "markdown",
      "source": [
        "2. The dataset contains missing values. Handle them by removing rows with NaN values:"
      ],
      "metadata": {
        "id": "zlBc4A29wJQB"
      }
    },
    {
      "cell_type": "code",
      "source": [
        "df2=df.dropna(axis = 0)\n",
        "df2"
      ],
      "metadata": {
        "id": "7tQEwznIwN92"
      },
      "execution_count": null,
      "outputs": []
    },
    {
      "cell_type": "markdown",
      "source": [
        "# Part 2: Data Visualization\n",
        "\n",
        "Task 1: Boxplot - Analyzing Body Mass by Species\n",
        "Create a boxplot to compare the distribution of penguin body mass across different species:"
      ],
      "metadata": {
        "id": "XxVuiEy8wOmO"
      }
    },
    {
      "cell_type": "markdown",
      "source": [],
      "metadata": {
        "id": "yB4k24eDv4H7"
      }
    },
    {
      "cell_type": "code",
      "source": [
        "sns.boxplot(x='species', y='body_mass_g', data=df2)\n",
        "plt.show()"
      ],
      "metadata": {
        "id": "b7arlbJYwU35"
      },
      "execution_count": null,
      "outputs": []
    },
    {
      "cell_type": "markdown",
      "source": [
        "Interpretation: Based on the boxplot, answer the following:\n",
        "\n",
        "1. Which species has the largest median body mass?\n",
        "2. Which species has the widest range in body mass?\n",
        "3. Are there any outliers? If so, which species have them?"
      ],
      "metadata": {
        "id": "B2O0ZehfwV1w"
      }
    },
    {
      "cell_type": "markdown",
      "source": [
        "1. Gentoo seems to have the largest median body mass\n",
        "2. I would say that Gentoo has the widest range in bodymass\n",
        "3. the species with outliers would be the chinstrap"
      ],
      "metadata": {
        "id": "SxCnIUPNwdYV"
      }
    },
    {
      "cell_type": "markdown",
      "source": [
        "Task 2: Violin Plot - Flipper Length Distribution by Species\n",
        "Create a violin plot to analyze the distribution of flipper length across species:"
      ],
      "metadata": {
        "id": "nUaripm8wf62"
      }
    },
    {
      "cell_type": "code",
      "source": [
        "\n",
        "sns.violinplot(x='species', y='flipper_length_mm', data=df2)\n",
        "plt.show()"
      ],
      "metadata": {
        "id": "LE_rn94TwjCO"
      },
      "execution_count": null,
      "outputs": []
    },
    {
      "cell_type": "markdown",
      "source": [
        "Interpretation: Answer the following:\n",
        "\n",
        "1. Which species has the most symmetrical distribution?\n",
        "2. Which species has the widest spread of flipper lengths?\n",
        "3. How do the quartiles (white lines in the plot) compare for each species?"
      ],
      "metadata": {
        "id": "bIUx4SW1wmPj"
      }
    },
    {
      "cell_type": "markdown",
      "source": [
        "1. I would say the Chinstrap have the most symmetrical distribution\n",
        "2. The Gentoo have the widest spread of flipper length\n",
        "3. The Gentoo have a more skewed quartile\n"
      ],
      "metadata": {
        "id": "urlzqkPjsbYh"
      }
    },
    {
      "cell_type": "markdown",
      "source": [
        "**Task 3**: Ridgeline Plot - Distribution of Bill Length by Island\n",
        "Use a ridgeline plot to visualize the distribution of bill length across islands:"
      ],
      "metadata": {
        "id": "QDL0M3lww2lq"
      }
    },
    {
      "cell_type": "code",
      "source": [
        "\n",
        "joyplot(\n",
        "    data = df2,\n",
        "    by= 'island',\n",
        "    column = 'bill_length_mm',\n",
        "    colormap= plt.cm.viridis\n",
        ")\n",
        "\n",
        "plt.show()"
      ],
      "metadata": {
        "id": "4dngtByNw4nc"
      },
      "execution_count": null,
      "outputs": []
    },
    {
      "cell_type": "markdown",
      "source": [
        "Interpretation: Answer the following:\n",
        "1. Which island has the smallest range of bill lengths?\n",
        "2. Which island has the most uniform distribution?\n",
        "3. What differences do you notice between the islands in terms of bill length?"
      ],
      "metadata": {
        "id": "9ANVWrZTxCfb"
      }
    },
    {
      "cell_type": "markdown",
      "source": [
        "1. Torgersen has the smallest range of bill length\n",
        "2. Torgersen has the most uniform distribution\n",
        "3. It seems to be that Dream island is bimodal which could mean there are more than 1 species on that island. The Biscoe also seems to have a greater range of bill length\n"
      ],
      "metadata": {
        "id": "w9eU9NCvzDMh"
      }
    },
    {
      "cell_type": "markdown",
      "source": [
        "upload your completed notebook (.ipynb) to Google Colab or GitHub.\n",
        "Submit the GitHub/Colab link in MS Teams under the assignment post."
      ],
      "metadata": {
        "id": "WclqVUSixJ1D"
      }
    }
  ]
}