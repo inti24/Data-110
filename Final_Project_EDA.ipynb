{
  "nbformat": 4,
  "nbformat_minor": 0,
  "metadata": {
    "colab": {
      "provenance": [],
      "authorship_tag": "ABX9TyNaIAySlKpD0IvgRfrLQV0Z",
      "include_colab_link": true
    },
    "kernelspec": {
      "name": "python3",
      "display_name": "Python 3"
    },
    "language_info": {
      "name": "python"
    }
  },
  "cells": [
    {
      "cell_type": "markdown",
      "metadata": {
        "id": "view-in-github",
        "colab_type": "text"
      },
      "source": [
        "<a href=\"https://colab.research.google.com/github/inti24/Data-110/blob/main/Final_Project_EDA.ipynb\" target=\"_parent\"><img src=\"https://colab.research.google.com/assets/colab-badge.svg\" alt=\"Open In Colab\"/></a>"
      ]
    },
    {
      "cell_type": "markdown",
      "source": [
        "## Introduction to the dataset and why I chose it\n",
        "I chose the Japan earthquake data set because I have been leaning about continental shifts in my geography course and learned about The Japan Trench which is formed from oceanic plate and a continental plate converging. The convergent plate boundaries in an oceanic – continental plate convergence create a trench as the oceanic plate subducts under the continental plate and make trenches. The plates scrape against each other and create stress to build up and then eventually release as an earthquake. I was interested to see this in action, so I chose the Japan earthquake data set.\n",
        "\n",
        "## A summary of your EDA process and key observations.\n",
        "Notes:\n",
        "Major earthquakes have a magnitude of 6.1 or higher\n",
        "\n",
        "When looking for a relationship between earthquake depth and magnitude I made a linear regression line to see if there were any relationships between the two. According to Tableau this linear regression has a P value of 0.14 which is not significant. Therefore, we cannot conclude that depth has a significant relationship with the magnitude of an earthquake.  Some key observations would be that the location of major earthquakes does fall in line with our assumptions that they would be along a trench line, in this case The Japan Trench. This data set does show that there was a drastic uptick in earthquakes in 2011. With this I looked into see if this was the case with major earthquakes, to which yes, there was a drastic difference between major earthquakes in 2011 and the other years. It is worth mentioning that 2006 was the year with the second highest number of earthquakes in this dataset, but when looking at major earthquakes, 2004 is the second highest number of major earthquakes. Checking the depth of the earthquakes along the years shows that the significant years (2011, 2006, 2004) all have a smaller spread.\n",
        "\n",
        "## A conclusion summarizing the key findings from your analysis and any recommendations or hypotheses for further research.\n",
        "\n",
        "From the data it does appear that the majority of earthquakes occur along The Japan Trench. Furthermore, according to the data set 2011 had drastically more earthquakes than the other years. When looking for any correlations for magnitude and depth, it can be concluded that depth does not have a significant relationship with the magnitude of an earthquake. Further research should be done to see any relationships between earthquakes, perhaps anything to tie the number of earthquakes and depth.\n"
      ],
      "metadata": {
        "id": "MGYa5VprjQx8"
      }
    },
    {
      "cell_type": "code",
      "execution_count": null,
      "metadata": {
        "id": "awQFnLZyjMzB"
      },
      "outputs": [],
      "source": []
    }
  ]
}